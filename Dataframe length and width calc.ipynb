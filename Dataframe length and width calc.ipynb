{
 "cells": [
  {
   "cell_type": "code",
   "execution_count": null,
   "id": "7d64254b",
   "metadata": {},
   "outputs": [],
   "source": [
    "# To work with DataFrame\n",
    "import pandas as pd\n",
    "\n",
    "# We create a sample DataFrame\n",
    "df = pd.DataFrame({\"col1\" : [2, 1, 4, 2, 0],\n",
    "                   \"col2\" : [2, 1, 3, 1, 0]})\n",
    "\n",
    "# We print the shape of the dataframe, which will give us a \n",
    "# tuple with the length and the width of the dataframe. (length, width)\n",
    "print(df.shape)\n",
    "\n",
    "# We can access the length like this\n",
    "print(df.shape[0])\n",
    "\n",
    "# We can access the width like this\n",
    "print(df.shape[1])"
   ]
  }
 ],
 "metadata": {
  "kernelspec": {
   "display_name": "Python 3 (ipykernel)",
   "language": "python",
   "name": "python3"
  },
  "language_info": {
   "codemirror_mode": {
    "name": "ipython",
    "version": 3
   },
   "file_extension": ".py",
   "mimetype": "text/x-python",
   "name": "python",
   "nbconvert_exporter": "python",
   "pygments_lexer": "ipython3",
   "version": "3.9.13"
  }
 },
 "nbformat": 4,
 "nbformat_minor": 5
}
